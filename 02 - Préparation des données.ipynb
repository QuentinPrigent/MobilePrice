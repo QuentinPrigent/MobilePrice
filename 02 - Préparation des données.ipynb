{
 "cells": [
  {
   "cell_type": "code",
   "execution_count": 1,
   "id": "823c981fd31b2e11",
   "metadata": {
    "ExecuteTime": {
     "end_time": "2025-07-21T10:35:40.326361Z",
     "start_time": "2025-07-21T10:35:40.324274Z"
    }
   },
   "outputs": [],
   "source": [
    "import pandas as pd"
   ]
  },
  {
   "cell_type": "markdown",
   "id": "d105039dc49988b8",
   "metadata": {},
   "source": [
    "# Préparation des données\n",
    "\n",
    "Suite à l'étape d'analyse des données, il est clair que l'ensemble des données fournies sont déjà quasiment prêtes à être utilisées pour l'entraînement du modèle. Nous allons tout de même procéder à quelques étapes pour nous assurer que les données sont prêtes à être utilisées pour différents types de modèles.\n",
    "\n",
    "## Nettoyage\n",
    "\n",
    "Nous avons vu qu'il y avait deux lignes avec des valeurs aberrantes que nous allons supprimer. Les deux lignes concernées étaient celles qui correspondaient à des téléphones dont les pixels en hauteur ont une valeur nulle."
   ]
  },
  {
   "cell_type": "code",
   "execution_count": 2,
   "id": "616e329996e34601",
   "metadata": {
    "ExecuteTime": {
     "end_time": "2025-07-21T10:35:40.400489Z",
     "start_time": "2025-07-21T10:35:40.395037Z"
    }
   },
   "outputs": [],
   "source": [
    "phone = pd.read_csv(\"data/raw/train.csv\")"
   ]
  },
  {
   "cell_type": "code",
   "execution_count": 3,
   "id": "907c3c14ee9ee188",
   "metadata": {
    "ExecuteTime": {
     "end_time": "2025-07-21T10:35:40.461840Z",
     "start_time": "2025-07-21T10:35:40.450849Z"
    }
   },
   "outputs": [
    {
     "data": {
      "text/html": [
       "<div>\n",
       "<style scoped>\n",
       "    .dataframe tbody tr th:only-of-type {\n",
       "        vertical-align: middle;\n",
       "    }\n",
       "\n",
       "    .dataframe tbody tr th {\n",
       "        vertical-align: top;\n",
       "    }\n",
       "\n",
       "    .dataframe thead th {\n",
       "        text-align: right;\n",
       "    }\n",
       "</style>\n",
       "<table border=\"1\" class=\"dataframe\">\n",
       "  <thead>\n",
       "    <tr style=\"text-align: right;\">\n",
       "      <th></th>\n",
       "      <th>battery_power</th>\n",
       "      <th>blue</th>\n",
       "      <th>clock_speed</th>\n",
       "      <th>dual_sim</th>\n",
       "      <th>fc</th>\n",
       "      <th>four_g</th>\n",
       "      <th>int_memory</th>\n",
       "      <th>m_dep</th>\n",
       "      <th>mobile_wt</th>\n",
       "      <th>n_cores</th>\n",
       "      <th>...</th>\n",
       "      <th>px_height</th>\n",
       "      <th>px_width</th>\n",
       "      <th>ram</th>\n",
       "      <th>sc_h</th>\n",
       "      <th>sc_w</th>\n",
       "      <th>talk_time</th>\n",
       "      <th>three_g</th>\n",
       "      <th>touch_screen</th>\n",
       "      <th>wifi</th>\n",
       "      <th>price_range</th>\n",
       "    </tr>\n",
       "  </thead>\n",
       "  <tbody>\n",
       "    <tr>\n",
       "      <th>1481</th>\n",
       "      <td>1834</td>\n",
       "      <td>0</td>\n",
       "      <td>2.1</td>\n",
       "      <td>0</td>\n",
       "      <td>7</td>\n",
       "      <td>1</td>\n",
       "      <td>40</td>\n",
       "      <td>0.1</td>\n",
       "      <td>99</td>\n",
       "      <td>4</td>\n",
       "      <td>...</td>\n",
       "      <td>0</td>\n",
       "      <td>1987</td>\n",
       "      <td>3692</td>\n",
       "      <td>13</td>\n",
       "      <td>0</td>\n",
       "      <td>16</td>\n",
       "      <td>1</td>\n",
       "      <td>1</td>\n",
       "      <td>0</td>\n",
       "      <td>3</td>\n",
       "    </tr>\n",
       "    <tr>\n",
       "      <th>1933</th>\n",
       "      <td>897</td>\n",
       "      <td>1</td>\n",
       "      <td>2.0</td>\n",
       "      <td>0</td>\n",
       "      <td>3</td>\n",
       "      <td>1</td>\n",
       "      <td>2</td>\n",
       "      <td>0.6</td>\n",
       "      <td>154</td>\n",
       "      <td>8</td>\n",
       "      <td>...</td>\n",
       "      <td>0</td>\n",
       "      <td>994</td>\n",
       "      <td>1958</td>\n",
       "      <td>7</td>\n",
       "      <td>5</td>\n",
       "      <td>7</td>\n",
       "      <td>1</td>\n",
       "      <td>1</td>\n",
       "      <td>0</td>\n",
       "      <td>1</td>\n",
       "    </tr>\n",
       "  </tbody>\n",
       "</table>\n",
       "<p>2 rows × 21 columns</p>\n",
       "</div>"
      ],
      "text/plain": [
       "      battery_power  blue  clock_speed  dual_sim  fc  four_g  int_memory  \\\n",
       "1481           1834     0          2.1         0   7       1          40   \n",
       "1933            897     1          2.0         0   3       1           2   \n",
       "\n",
       "      m_dep  mobile_wt  n_cores  ...  px_height  px_width   ram  sc_h  sc_w  \\\n",
       "1481    0.1         99        4  ...          0      1987  3692    13     0   \n",
       "1933    0.6        154        8  ...          0       994  1958     7     5   \n",
       "\n",
       "      talk_time  three_g  touch_screen  wifi  price_range  \n",
       "1481         16        1             1     0            3  \n",
       "1933          7        1             1     0            1  \n",
       "\n",
       "[2 rows x 21 columns]"
      ]
     },
     "execution_count": 3,
     "metadata": {},
     "output_type": "execute_result"
    }
   ],
   "source": [
    "phone[phone[\"px_height\"] == 0]"
   ]
  },
  {
   "cell_type": "code",
   "execution_count": 4,
   "id": "f7e0e2bfd664a52b",
   "metadata": {
    "ExecuteTime": {
     "end_time": "2025-07-21T10:35:40.536235Z",
     "start_time": "2025-07-21T10:35:40.534137Z"
    }
   },
   "outputs": [],
   "source": [
    "\"\"\"Supprimer les lignes avec des valeurs aberrantes\"\"\"\n",
    "phone = phone[phone[\"px_height\"] != 0]"
   ]
  },
  {
   "cell_type": "markdown",
   "id": "6fdc6a99fd94a61c",
   "metadata": {},
   "source": [
    "Maintenant que les données sont nettoyées, nous allons les sauvegarder dans différents fichiers sous différents formats afin de les préparer et les tester pour différents types de modèles."
   ]
  },
  {
   "cell_type": "markdown",
   "id": "cccff7b9a2c9fb83",
   "metadata": {},
   "source": [
    "## Sauvegarde des données\n",
    "\n",
    "Nous allons sauvegarder les données afin de les utiliser pour différents types de modèles."
   ]
  },
  {
   "cell_type": "code",
   "execution_count": 5,
   "id": "b895e7ee438d530",
   "metadata": {
    "ExecuteTime": {
     "end_time": "2025-07-21T10:35:40.616108Z",
     "start_time": "2025-07-21T10:35:40.607606Z"
    }
   },
   "outputs": [],
   "source": [
    "phone.to_csv(\"data/cleaned/cleaned_data.csv\", index=False)"
   ]
  },
  {
   "cell_type": "markdown",
   "id": "2dcbd17b1fe40336",
   "metadata": {},
   "source": [
    "## Conclusion\n",
    "\n",
    "Les données ont été sauvegardées dans un fichier CSV et sont prêtes à être utilisées pour différents types de modèles."
   ]
  }
 ],
 "metadata": {
  "kernelspec": {
   "display_name": "Python 3 (ipykernel)",
   "language": "python",
   "name": "python3"
  },
  "language_info": {
   "codemirror_mode": {
    "name": "ipython",
    "version": 3
   },
   "file_extension": ".py",
   "mimetype": "text/x-python",
   "name": "python",
   "nbconvert_exporter": "python",
   "pygments_lexer": "ipython3",
   "version": "3.11.7"
  }
 },
 "nbformat": 4,
 "nbformat_minor": 5
}
